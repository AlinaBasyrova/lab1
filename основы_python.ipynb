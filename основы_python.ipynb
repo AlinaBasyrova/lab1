{
  "cells": [
    {
      "cell_type": "markdown",
      "metadata": {
        "id": "M-DGa20PaHnu"
      },
      "source": [
        "#Задача 1\n",
        "Написать функцию на вход которой подается строка, состоящая из латинских букв.\n",
        "Функция должна вернуть количество гласных букв (a, e, i, o, u) в этой строке. Написать тесты для кода"
      ]
    },
    {
      "cell_type": "code",
      "execution_count": 6,
      "metadata": {
        "id": "XvX8X_JJ6PCb"
      },
      "outputs": [
        {
          "name": "stdout",
          "output_type": "stream",
          "text": [
            "All good\n"
          ]
        }
      ],
      "source": [
        "def count_vowels(str):\n",
        "    vowels = \"AEIOUaeiou\"\n",
        "    count = 0\n",
        "    for char in str:\n",
        "        if char in vowels:\n",
        "            count += 1\n",
        "    return count\n",
        "\n",
        "def tests():\n",
        "    assert count_vowels(\"\") == 0\n",
        "    assert count_vowels(\"HEllo\") == 2\n",
        "    assert count_vowels(\"world\") == 1\n",
        "    assert count_vowels(\"hello world\") == 3\n",
        "    assert count_vowels(\"qwrt\") == 0\n",
        "    assert count_vowels(\"EAO\") == 3\n",
        "    print (\"All good\")\n",
        "\n",
        "tests()"
      ]
    },
    {
      "cell_type": "markdown",
      "metadata": {
        "id": "t2ClV_Y0bbr6"
      },
      "source": [
        "# Задача 2\n",
        "Написать функцию на вход, которой подается строка. Функция должна вернуть true, если\n",
        "каждый символ в строке встречается только 1 раз, иначе должна вернуть false. Написать тесты для кода"
      ]
    },
    {
      "cell_type": "code",
      "execution_count": 8,
      "metadata": {
        "id": "FppbECao6VIz"
      },
      "outputs": [
        {
          "name": "stdout",
          "output_type": "stream",
          "text": [
            "All good\n"
          ]
        }
      ],
      "source": [
        "def unique_chars(str):  \n",
        "    chars = set()\n",
        "\n",
        "    for char in str:\n",
        "        if char in chars:  \n",
        "            return False  \n",
        "        chars.add(char)\n",
        "\n",
        "    return True  \n",
        "\n",
        "def tests():\n",
        "    assert unique_chars(\"\") == True\n",
        "    assert unique_chars(\"abc\") == True\n",
        "    assert unique_chars(\"abca\") == False\n",
        "    assert unique_chars(\"12345\") == True\n",
        "    assert unique_chars(\"123451\") == False\n",
        "    assert unique_chars(\"!@#\") == True\n",
        "    assert unique_chars(\"!!!\") == False\n",
        "    assert unique_chars(\"a b c d\") == False\n",
        "    print(\"All good\")\n",
        "\n",
        "tests()"
      ]
    },
    {
      "cell_type": "markdown",
      "metadata": {
        "id": "udRiIK1cdt6E"
      },
      "source": [
        "# Задача 3\n",
        "Написать функцию, которая принимает положительное число и возвращает количество\n",
        "бит равных 1 в этом числе. Написать тесты для кода"
      ]
    },
    {
      "cell_type": "code",
      "execution_count": 12,
      "metadata": {
        "id": "6tkfDJRz6dp_"
      },
      "outputs": [
        {
          "name": "stdout",
          "output_type": "stream",
          "text": [
            "All good\n"
          ]
        }
      ],
      "source": [
        "def count_bits(n):\n",
        "    if n < 0:\n",
        "        raise ValueError(\"Число должно быть положительным\")\n",
        "    \n",
        "    count = 0\n",
        "    while n:\n",
        "        count += n & 1\n",
        "        n >>= 1\n",
        "    return count\n",
        "\n",
        "def tests():\n",
        "    assert count_bits(0) == 0\n",
        "    assert count_bits(1) == 1\n",
        "    assert count_bits(2) == 1\n",
        "    assert count_bits(3) == 2\n",
        "    assert count_bits(15) == 4\n",
        "    assert count_bits(255) == 8\n",
        "    assert count_bits(256) == 1\n",
        "    print(\"All good\")\n",
        "    \n",
        "tests()"
      ]
    },
    {
      "cell_type": "markdown",
      "metadata": {
        "id": "26dDUz-Ae17N"
      },
      "source": [
        "# Задача 4\n",
        "Написать функцию, которая принимает положительное число. Функция должна вернуть то,\n",
        "сколько раз необходимо перемножать цифры числа или результат перемножения, чтобы\n",
        "получилось число состоящее из одной цифры.\n",
        "Например, для входного числа:\n",
        "· 39 функция должна вернуть 3, так как 3*9=27 => 2*7=14 => 1*4=4\n",
        "· 4 функция должна вернуть 0, так как число уже состоит из одной цифры\n",
        "· 999 функция должна вернуть 4, так как 9*9*9=729 => 7*2*9=126 => 1*2*6=12 =>\n",
        "1*2=2. Написать тесты для кода"
      ]
    },
    {
      "cell_type": "code",
      "execution_count": 15,
      "metadata": {
        "id": "BH1A_Mgi6i4G"
      },
      "outputs": [
        {
          "name": "stdout",
          "output_type": "stream",
          "text": [
            "All goos\n"
          ]
        }
      ],
      "source": [
        "def magic(n):\n",
        "    if n < 10:\n",
        "        return 0\n",
        "\n",
        "    count = 0\n",
        "    while n >= 10:\n",
        "        res = 1\n",
        "        for digit in str(n):\n",
        "            res *= int(digit)\n",
        "        n = res\n",
        "        count += 1\n",
        "\n",
        "    return count\n",
        "\n",
        "def tests():\n",
        "    assert magic(39) == 3\n",
        "    assert magic(4) == 0\n",
        "    assert magic(999) == 4\n",
        "    assert magic(123) == 1\n",
        "    assert magic(10) == 1\n",
        "    assert magic(56) == 2\n",
        "    print(\"All goos\")\n",
        "\n",
        "tests()"
      ]
    },
    {
      "cell_type": "markdown",
      "metadata": {
        "id": "0nS-kIa8g8vd"
      },
      "source": [
        "# Задача 5\n",
        "Написать функцию, которая принимает два целочисленных вектора одинаковой длины и\n",
        "возвращает среднеквадратическое отклонение двух векторов. Написать тесты для кода"
      ]
    },
    {
      "cell_type": "code",
      "execution_count": 51,
      "metadata": {
        "id": "8iphx4LM6xbx"
      },
      "outputs": [
        {
          "name": "stdout",
          "output_type": "stream",
          "text": [
            "All good\n"
          ]
        }
      ],
      "source": [
        "import math\n",
        "\n",
        "def mse(vector1, vector2):\n",
        "    if len(vector1) != len(vector2):\n",
        "        raise ValueError(\"Векторы должны быть одинаковой длины.\")\n",
        "    \n",
        "    n = len(vector1)\n",
        "    squared_dif = [(vector1[i] - vector2[i]) ** 2 for i in range(n)]\n",
        "    \n",
        "    res = sum(squared_dif) / n\n",
        "    res = math.sqrt(res)\n",
        "    return res\n",
        "\n",
        "def tests():\n",
        "    assert math.isclose(mse([1, 2, 3], [1, 2, 3]), 0.0), \"Тест 1 не пройден\"\n",
        "    assert math.isclose(mse([1, 2, 3], [4, 5, 6]), 3), \"Тест 2 не пройден\"\n",
        "    assert math.isclose(mse([1, 2, 3], [-1, -2, -3]), math.sqrt(56/3)), \"Тест 3 не пройден\"\n",
        "    assert math.isclose(mse([0, 0], [1, 1]), 1.0), \"Тест 5 не пройден\"\n",
        "    \n",
        "    print(\"All good\")\n",
        "\n",
        "tests()"
      ]
    },
    {
      "cell_type": "markdown",
      "metadata": {
        "id": "vpIPKL439zkw"
      },
      "source": [
        "# Задача 6\n",
        "Написать функцию, принимающая целое положительное число. Функция должна вернуть\n",
        "строку вида “(n1**p1)(n2**p2)…(nk**pk)” представляющая разложение числа на простые\n",
        "множители (если pi == 1, то выводить только ni).\n",
        "Например, для числа 86240 функция должна вернуть “(2**5)(5)(7**2)(11)”. Написать тесты для кода"
      ]
    },
    {
      "cell_type": "code",
      "execution_count": 42,
      "metadata": {
        "id": "pFebmcZk94Jw"
      },
      "outputs": [
        {
          "name": "stdout",
          "output_type": "stream",
          "text": [
            "All good\n"
          ]
        }
      ],
      "source": [
        "def prime_factors(n):\n",
        "    result = \"\"\n",
        "    i = 2\n",
        "    while i * i <= n:\n",
        "        count = 0\n",
        "        while n % i == 0:\n",
        "            count += 1\n",
        "            n //= i\n",
        "        if count > 0:\n",
        "            if count == 1:\n",
        "                result += f\"({i})\"\n",
        "            else:\n",
        "                result += f\"({i}**{count})\"\n",
        "        i += 1\n",
        "    if n > 1:\n",
        "        result += f\"({n})\"\n",
        "    return result\n",
        "\n",
        "def tests():\n",
        "    assert prime_factors(86240) == \"(2**5)(5)(7**2)(11)\"\n",
        "    assert prime_factors(30) == \"(2)(3)(5)\"\n",
        "    assert prime_factors(100) == \"(2**2)(5**2)\"\n",
        "    assert prime_factors(1) == \"\"  # 1 не имеет простых множителей\n",
        "    assert prime_factors(2) == \"(2)\"\n",
        "    assert prime_factors(97) == \"(97)\"  # Простое число\n",
        "    assert prime_factors(60) == \"(2**2)(3)(5)\"\n",
        "    assert prime_factors(18) == \"(2)(3**2)\"\n",
        "    \n",
        "    print(\"All good\")\n",
        "\n",
        "# Запуск тестов\n",
        "tests()\n"
      ]
    },
    {
      "cell_type": "markdown",
      "metadata": {
        "id": "ps2s0BudX7A2"
      },
      "source": [
        "# Задача 7\n",
        "Написать функцию, принимающая целое число n, задающее количество кубиков. Функция\n",
        "должна определить, можно ли из данного кол-ва кубиков построить пирамиду, то есть\n",
        "можно ли представить число n как 1^2+2^2+3^2+…+k^2. Если можно, то функция должна\n",
        "вернуть k, иначе строку “It is impossible”. Написать тесты для кода"
      ]
    },
    {
      "cell_type": "code",
      "execution_count": 33,
      "metadata": {
        "id": "3YPjEXxhX_YT"
      },
      "outputs": [
        {
          "name": "stdout",
          "output_type": "stream",
          "text": [
            "All good\n"
          ]
        }
      ],
      "source": [
        "def pyramid(n):\n",
        "    if (n < 1):\n",
        "        return \"It is impossible\"\n",
        "    k = 0\n",
        "    total = 0\n",
        "\n",
        "    while total < n:\n",
        "        k += 1\n",
        "        total += k ** 2\n",
        "\n",
        "    if total == n:\n",
        "        return k\n",
        "    else:\n",
        "        return \"It is impossible\"\n",
        "    \n",
        "def tests():\n",
        "    assert pyramid(0) == \"It is impossible\"\n",
        "    assert pyramid(1) == 1\n",
        "    assert pyramid(5) == 2\n",
        "    assert pyramid(4) == \"It is impossible\"\n",
        "    assert pyramid(55) == 5\n",
        "    assert pyramid(385) == 10\n",
        "    print(\"All good\")\n",
        "\n",
        "tests()"
      ]
    },
    {
      "cell_type": "markdown",
      "metadata": {
        "id": "KeKgmIdAQMEJ"
      },
      "source": [
        "# Задача 8\n",
        "Функция принимает на вход положительное число и определяет является ли оно сбалансированным, т.е. сумма цифр до средних равна сумме цифр после. Средними в случае нечетного числа цифр считать одну цифру, в случае четного - две средних. Написать тесты для кода"
      ]
    },
    {
      "cell_type": "code",
      "execution_count": 32,
      "metadata": {
        "id": "gMAAqtqlQrZt"
      },
      "outputs": [
        {
          "name": "stdout",
          "output_type": "stream",
          "text": [
            "All good\n"
          ]
        }
      ],
      "source": [
        "def is_balanced(number):\n",
        "    num_str = str(number)\n",
        "    length = len(num_str)\n",
        "\n",
        "    if (length < 3): #Нельзя выделить средние\n",
        "        return False\n",
        "\n",
        "    if length % 2 == 0:  # Четное количество цифр\n",
        "        left = num_str[:length // 2 - 1]\n",
        "        right = num_str[length // 2 + 1:]\n",
        "    else:  # Нечетное количество цифр\n",
        "        left = num_str[:length // 2]\n",
        "        right = num_str[length // 2 + 1:]\n",
        "\n",
        "    left_sum = sum(int(digit) for digit in left)\n",
        "    right_sum = sum(int(digit) for digit in right)\n",
        "    #print(left_sum, right_sum)\n",
        "    return left_sum == right_sum\n",
        "\n",
        "def tests():\n",
        "    assert is_balanced(123) == False\n",
        "    assert is_balanced(121) == True\n",
        "    assert is_balanced(123321) == True\n",
        "    assert is_balanced(123456) == False\n",
        "    assert is_balanced(1) == False\n",
        "    assert is_balanced(11) == False\n",
        "    assert is_balanced(23614) == True\n",
        "    print(\"All good\")\n",
        "\n",
        "\n",
        "tests()"
      ]
    }
  ],
  "metadata": {
    "colab": {
      "provenance": []
    },
    "kernelspec": {
      "display_name": "Python 3",
      "name": "python3"
    },
    "language_info": {
      "codemirror_mode": {
        "name": "ipython",
        "version": 3
      },
      "file_extension": ".py",
      "mimetype": "text/x-python",
      "name": "python",
      "nbconvert_exporter": "python",
      "pygments_lexer": "ipython3",
      "version": "3.11.9"
    }
  },
  "nbformat": 4,
  "nbformat_minor": 0
}
