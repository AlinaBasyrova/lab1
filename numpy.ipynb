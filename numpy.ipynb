{
  "cells": [
    {
      "cell_type": "markdown",
      "metadata": {
        "id": "vC84e9kzyxPy"
      },
      "source": [
        "<h1>Импорт библиотек"
      ]
    },
    {
      "cell_type": "code",
      "execution_count": 5,
      "metadata": {
        "id": "cgKeNegmQG5S"
      },
      "outputs": [],
      "source": [
        "import numpy as np\n",
        "import matplotlib.pyplot as plt"
      ]
    },
    {
      "cell_type": "markdown",
      "metadata": {
        "id": "qFM9uVU2x4Ls"
      },
      "source": [
        "<h1>Задача 1. Дан набор из $p$ матриц размерностью $(n, n)$ и $p$ векторов размерностью $(n, 1)$, найти сумму произведений матриц на векторы. Написать тесты для кода"
      ]
    },
    {
      "cell_type": "code",
      "execution_count": 16,
      "metadata": {
        "id": "IAbUvEiYyWFF"
      },
      "outputs": [],
      "source": [
        "def sum_prod(X, V):\n",
        "    '''\n",
        "    X - матрицы (n, n)\n",
        "    V - векторы (n, 1)\n",
        "    Гарантируется, что len(X) == len(V)\n",
        "    '''\n",
        "    res = np.zeros_like(V[0])\n",
        "    for i in range(len(V)):\n",
        "        res += np.dot(X[i], V[i])\n",
        "    #with np.printoptions(threshold=np.inf):\n",
        "        #print(res)\n",
        "\n",
        "    return res\n",
        "\n",
        "def tests():\n",
        "        X = [np.array([[1, 2], [3, 4]]), np.array([[5, 6], [7, 8]])]\n",
        "        V = [np.array([[1], [1]]), np.array([[1], [1]])]\n",
        "        result = sum_prod(X, V)\n",
        "        expected = np.array([[14], [22]])  \n",
        "        assert np.array_equal(result, expected)\n",
        "\n",
        "tests()\n"
      ]
    },
    {
      "cell_type": "markdown",
      "metadata": {
        "id": "TKwPG4fIy2w4"
      },
      "source": [
        "<h1>Задача 2. Дана матрица M, напишите функцию, которая бинаризует матрицу по некоторому threshold (то есть, все значения большие threshold становятся равными 1, иначе 0). Напишите тесты для кода"
      ]
    },
    {
      "cell_type": "code",
      "execution_count": 21,
      "metadata": {
        "id": "KQDNMgsjRNH7"
      },
      "outputs": [
        {
          "name": "stdout",
          "output_type": "stream",
          "text": [
            "All godd\n"
          ]
        }
      ],
      "source": [
        "def binarize(M, threshold=0.5):\n",
        "    return (M > threshold).astype(int)\n",
        "\n",
        "def tests():\n",
        "    M = np.array([[0.4, 0.6], [0.7, 0.3]])\n",
        "    expected = np.array([[0, 1], [1, 0]])\n",
        "    assert np.array_equal(binarize(M), expected)\n",
        "    M = np.array([[0.4, 0.6], [0.7, 0.3]])\n",
        "    threshold = 1\n",
        "    expected = np.array([[0, 0], [0, 0]])\n",
        "    assert np.array_equal(binarize(M, threshold), expected)\n",
        "    M = np.array([[0.4, 0.6], [0.7, 0.3]])\n",
        "    threshold = -1\n",
        "    expected = np.array([[1, 1], [1, 1]])\n",
        "    assert np.array_equal(binarize(M, threshold), expected)\n",
        "    print('All godd')\n",
        "\n",
        "tests()"
      ]
    },
    {
      "cell_type": "markdown",
      "metadata": {
        "id": "IY5L-h-7zWhN"
      },
      "source": [
        "<h1>Задача 3. Напишите функцию, которая возвращает уникальные элементы из каждой строки матрицы. Напишите такую же функцию, но для столбцов. Напишите тесты для кода"
      ]
    },
    {
      "cell_type": "code",
      "execution_count": 29,
      "metadata": {
        "id": "-8dEZhR0SBC-"
      },
      "outputs": [
        {
          "name": "stdout",
          "output_type": "stream",
          "text": [
            "All godd\n",
            "All godd\n"
          ]
        }
      ],
      "source": [
        "def unique_rows(mat):\n",
        "    res = np.array([np.unique(row) for row in mat])\n",
        "    #with np.printoptions(threshold=np.inf):\n",
        "        #print(res)\n",
        "    return res\n",
        "\n",
        "def unique_columns(mat):\n",
        "    res = [np.unique(column) for column in mat.T]\n",
        "    #with np.printoptions(threshold=np.inf):\n",
        "        #print(res)\n",
        "    return res\n",
        "\n",
        "def tests_rows():\n",
        "    M = np.array([[1, 2, 2], [3, 4, 4], [5, 6, 5]])\n",
        "    expected = np.array([[1, 2], [3, 4], [5, 6]]) \n",
        "    assert np.array_equal(unique_rows(M), expected)\n",
        "    M = np.array([[2, 2, 2], [2, 2, 2], [2, 2, 2]])\n",
        "    expected = np.array([[2], [2], [2]])\n",
        "    assert np.array_equal(unique_rows(M), expected)\n",
        "    print('All godd')\n",
        "\n",
        "def tests_columns():\n",
        "    M = np.array([[1, 2, 2], [3, 4, 4], [5, 6, 5]])\n",
        "    expected = np.array([[1, 3, 5],[2, 4, 6],[2, 4, 5]])\n",
        "    assert np.array_equal(unique_columns(M), expected)\n",
        "    M = np.array([[2, 2, 2], [2, 2, 2], [2, 2, 2]])\n",
        "    expected = np.array([[2], [2], [2]])\n",
        "    assert np.array_equal(unique_columns(M), expected)\n",
        "    print('All godd')\n",
        "\n",
        "tests_rows()\n",
        "tests_columns()"
      ]
    },
    {
      "cell_type": "markdown",
      "metadata": {
        "id": "roYAlo4Jz-lH"
      },
      "source": [
        "<h1>Задача 4. Напишите функцию, которая заполняет матрицу с размерами $(m, n)$ случайными числами, распределенными по нормальному закону. Затем считает мат. ожидание и дисперсию для каждого из столбцов и строк, а также строит для каждой строки и столбца гистограмму значений (использовать функцию hist из модуля matplotlib.plot)"
      ]
    },
    {
      "cell_type": "code",
      "execution_count": null,
      "metadata": {
        "id": "nZK_71hMSQzv"
      },
      "outputs": [],
      "source": [
        "# Your code goes here"
      ]
    },
    {
      "cell_type": "markdown",
      "metadata": {
        "id": "BDyATNdM0dJ2"
      },
      "source": [
        "<h1>Задача 5. Напишите функцию, которая заполняет матрицу $(m, n)$ в шахматном порядке заданными числами $a$ и $b$. Напишите тесты для кода"
      ]
    },
    {
      "cell_type": "code",
      "execution_count": 30,
      "metadata": {
        "id": "RWNJYWQGecS6"
      },
      "outputs": [],
      "source": [
        "def chess(m, n, a, b):\n",
        "    chessboard = np.zeros((m, n), dtype=int)\n",
        "    \n",
        "    for i in range(m):\n",
        "        for j in range(n):\n",
        "            if (i + j) % 2 == 0:\n",
        "                chessboard[i, j] = a\n",
        "            else:\n",
        "                chessboard[i, j] = b\n",
        "                \n",
        "    return chessboard\n",
        "\n",
        "def tests():\n",
        "    m = 3\n",
        "    n = 4\n",
        "    a = 6\n",
        "    b = 9\n",
        "    result = chess(m, n, a, b)\n",
        "    assert np.array_equal(result, np.array([[6, 9, 6, 9],\n",
        "                                            [9, 6, 9, 6],\n",
        "                                            [6, 9, 6, 9]]))\n",
        "    \n",
        "tests()\n",
        "    "
      ]
    },
    {
      "cell_type": "markdown",
      "metadata": {
        "id": "-ymXLtTN0vB6"
      },
      "source": [
        "<h1>Задача 6. Напишите функцию, которая отрисовывает прямоугольник с заданными размерами (a, b) на изображении размера (m, n), цвет фона задайте в схеме RGB, как и цвет прямоугольника. Цвета также должны быть параметрами функции. Напишите аналогичную функцию но для овала с полуосями a и b. Напишите тесты для кода.\n",
        "Примечание: уравнение эллипса (границы овала) можно записать как:\n",
        "<h1>$\\frac{(x-x_0)^2}{a^2}+\\frac{(y-y_0)^2}{b^2}=1$"
      ]
    },
    {
      "cell_type": "code",
      "execution_count": 50,
      "metadata": {
        "id": "sNfl1t_kfOF4"
      },
      "outputs": [
        {
          "data": {
            "image/png": "[encoded data removed]",
            "text/plain": [
              "<Figure size 640x480 with 1 Axes>"
            ]
          },
          "metadata": {},
          "output_type": "display_data"
        },
        {
          "data": {
            "image/png": "[encoded data removed]",
            "text/plain": [
              "<Figure size 640x480 with 1 Axes>"
            ]
          },
          "metadata": {},
          "output_type": "display_data"
        }
      ],
      "source": [
        "def draw_rectangle(a, b, m, n, rect_color, bg_color):\n",
        "    image = np.zeros((m, n, 3), dtype=np.uint8)\n",
        "    image[:] = bg_color\n",
        "\n",
        "    x0, y0 = (n - a) // 2, (m - b) // 2 \n",
        "    image[y0:y0+b, x0:x0+a] = rect_color\n",
        "\n",
        "    plt.imshow(image)\n",
        "    plt.axis('off')\n",
        "    plt.show()\n",
        "\n",
        "def draw_ellipse(a, b, m, n, ellipse_color, bg_color):\n",
        "    image = np.zeros((m, n, 3), dtype=np.uint8)\n",
        "    image[:] = bg_color\n",
        "    \n",
        "    y, x = np.ogrid[:m, :n]\n",
        "    x0, y0 = n // 2, m // 2\n",
        "    ellipse_mask = ((x - x0) ** 2) / a ** 2 + ((y - y0) ** 2) / b ** 2 <= 1\n",
        "    image[ellipse_mask] = ellipse_color\n",
        "\n",
        "    plt.imshow(image)\n",
        "    plt.axis('off')\n",
        "    plt.show()\n",
        "    \n",
        "draw_rectangle(200, 150, 300, 400, rect_color=(255, 0, 0), bg_color=(50, 50, 50))\n",
        "draw_ellipse(50, 100, 300, 400, ellipse_color=(0, 0, 255), bg_color=(50, 50, 50))"
      ]
    },
    {
      "cell_type": "markdown",
      "metadata": {
        "id": "S82c38oz244H"
      },
      "source": [
        "<h1>Задача 7. Дан некий временной ряд. Для данного ряда нужно найти его: математическое ожидание, дисперсию, СКО, найти все локальные максимумы и минимумы (локальный максимум - это точка, которая больше своих соседних точек, а локальный минимум - это точка, которая меньше своих соседей), а также вычислить для данного ряда другой ряд, получаемый методом скользящего среднего с размером окна $p$.\n",
        "<h1>Примечание: метод скользящего среднего подразумевает нахождение среднего из подмножетсва ряда размером $p$"
      ]
    },
    {
      "cell_type": "code",
      "execution_count": 41,
      "metadata": {
        "id": "Zb9mIVge5MMt"
      },
      "outputs": [
        {
          "name": "stdout",
          "output_type": "stream",
          "text": [
            "Матожидание: 4.1\n",
            "Дисперсия: 3.69\n",
            "СКО: 1.9209372712298547\n",
            "Локальный максимум: [5, 6, 7]\n",
            "Локальный минимум: [4, 2]\n",
            "Среднее: [2.66666667 3.66666667 5.         4.         3.66666667 4.\n",
            " 5.33333333 6.        ]\n"
          ]
        }
      ],
      "source": [
        "\n",
        "def calculate_statistics(series):\n",
        "    # Математическое ожидание\n",
        "    mean = np.mean(series)\n",
        "    # Дисперсия\n",
        "    variance = np.var(series)\n",
        "    # Среднеквадратическое отклонение\n",
        "    std_dev = np.std(series)\n",
        "    \n",
        "    return mean, variance, std_dev\n",
        "\n",
        "def find_local_extrema(data):\n",
        "    local_max = []\n",
        "    local_min = []\n",
        "    for i in range(1, len(data) - 1):\n",
        "        if data[i] < data[i - 1] and data[i] < data[i + 1]:\n",
        "            local_min.append(int(data[i]))\n",
        "        if data[i] > data[i - 1] and data[i] > data[i + 1]:\n",
        "            local_max.append(int(data[i]))\n",
        "            \n",
        "    return local_max, local_min\n",
        "\n",
        "def calculate_smooth(data, p):\n",
        "    return np.convolve(data, np.ones(p), mode='valid') / p\n",
        "\n",
        "data = np.array([1, 2, 5, 4, 6, 2, 3, 7, 6, 5])\n",
        "p = 3\n",
        "\n",
        "local_max, local_min = find_local_extrema(data)\n",
        "smooth = calculate_smooth(data, p)\n",
        "\n",
        "print(\"Матожидание:\", np.mean(data))\n",
        "print(\"Дисперсия:\", np.var(data))\n",
        "print(\"СКО:\", np.std(data))\n",
        "print(\"Локальный максимум:\", local_max)\n",
        "print(\"Локальный минимум:\", local_min)\n",
        "print(\"Среднее:\", smooth)"
      ]
    },
    {
      "cell_type": "markdown",
      "metadata": {
        "id": "jPkylmOX5O9n"
      },
      "source": [
        "<h1> Задача 8. Дан некоторый вектор с целочисленными метками классов, напишите функцию, которая выполняет one-hot-encoding для данного вектора\n",
        "<h1> One-hot-encoding - представление, в котором на месте метки некоторого класса стоит 1, в остальных позициях стоит 0. Например для вектора [0, 2, 3, 0] one-hot-encoding выглядит как: [[1, 0, 0, 0], [0, 0, 1, 0], [0, 0, 0, 1], [1, 0, 0, 0]]"
      ]
    },
    {
      "cell_type": "code",
      "execution_count": 32,
      "metadata": {
        "id": "Y-jlnZvw56lD"
      },
      "outputs": [
        {
          "name": "stdout",
          "output_type": "stream",
          "text": [
            "All good\n"
          ]
        }
      ],
      "source": [
        "def one_hot_encoding(mask):\n",
        "    n = np.max(mask) + 1\n",
        "    res = np.zeros((len(mask), n), dtype=int)\n",
        "    for i, j in enumerate(mask):\n",
        "        res[i, j] = 1\n",
        "    return res\n",
        "\n",
        "\n",
        "def tests():\n",
        "    M = np.array([0, 2, 3, 0])\n",
        "    res = one_hot_encoding(M)\n",
        "    assert np.array_equal(res, np.array([[1, 0, 0, 0],\n",
        "                                        [0, 0, 1, 0],\n",
        "                                        [0, 0, 0, 1],\n",
        "                                        [1, 0, 0, 0]]))\n",
        "    print(\"All good\")\n",
        "\n",
        "tests()"
      ]
    }
  ],
  "metadata": {
    "colab": {
      "provenance": []
    },
    "kernelspec": {
      "display_name": "Python 3",
      "name": "python3"
    },
    "language_info": {
      "codemirror_mode": {
        "name": "ipython",
        "version": 3
      },
      "file_extension": ".py",
      "mimetype": "text/x-python",
      "name": "python",
      "nbconvert_exporter": "python",
      "pygments_lexer": "ipython3",
      "version": "3.11.9"
    }
  },
  "nbformat": 4,
  "nbformat_minor": 0
}
